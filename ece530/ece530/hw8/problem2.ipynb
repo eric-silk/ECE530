{
 "cells": [
  {
   "cell_type": "code",
   "execution_count": null,
   "metadata": {},
   "outputs": [],
   "source": [
    "from typing import Tuple, List\n",
    "\n",
    "import numpy as np\n",
    "import matplotlib.pyplot as plt\n",
    "\n",
    "A = np.array(\n",
    "    (\n",
    "        (10, 5, 3, 4),\n",
    "        (4, 10, 2, 1),\n",
    "        (1, 3, 8, 2),\n",
    "        (1,6,3,9)\n",
    "    )\n",
    ")\n",
    "\n",
    "b = np.array((4, -5, 4, -11))"
   ]
  },
  {
   "cell_type": "code",
   "execution_count": null,
   "metadata": {},
   "outputs": [],
   "source": [
    "x_exact = np.linalg.solve(A, b)\n",
    "print(x_exact)\n",
    "err_func = lambda xk: np.linalg.norm(xk - x_exact)\n",
    "\n",
    "def residual(A: np.ndarray, x: np.ndarray, b: np.ndarray) -> float:\n",
    "    return np.linalg.norm(b - A@x)\n",
    "\n",
    "def Jacobi(A: np.ndarray, b: np.ndarray, x0: np.ndarray, k_max: int=1000, res_max: float=1e-5) -> Tuple[np.ndarray, List[float], List[float]]:\n",
    "    residuals = []\n",
    "    errors = []\n",
    "    n = A.shape[0]\n",
    "    print(\"n:\", n)\n",
    "    xk = np.copy(x0)\n",
    "    xkp1 = np.zeros_like(xk)\n",
    "    for i in range(n):\n",
    "        for k in range(k_max):\n",
    "            for i in range(n):\n",
    "                sigma = 0\n",
    "                for j in range(n):\n",
    "                    if j != i:\n",
    "                        sigma += A[i,j]*xk[j]\n",
    "                xkp1[i] = (b[i]-sigma)/A[i,i]\n",
    "            xk = xkp1\n",
    "            res = residual(A, xk, b)\n",
    "            err = err_func(xk)\n",
    "            residuals.append(res)\n",
    "            errors.append(err)\n",
    "\n",
    "            if res < res_max:\n",
    "                print(f\"Converged at iteration {k}\")\n",
    "                return xk, residuals, errors\n",
    "    else:\n",
    "        print(f\"Failed to converge in {k_max} iterations!\")\n",
    "        return xk, residuals, errors\n",
    "\n",
    "\n",
    "\n",
    "x_jac, jac_res, jac_error = Jacobi(A, b, np.array((1.,1.,1.,1.)))\n",
    "print(x_jac)\n",
    "plt.figure(figsize=(8,4.5))\n",
    "plt.semilogy(jac_res, label=\"Residues\")\n",
    "plt.semilogy(jac_error, label=\"Error\")\n",
    "plt.xlabel(\"Iteration Number\")\n",
    "plt.ylabel(\"Error or Residue Values\")\n",
    "plt.title(\"Jacobi Method Convergence\")\n",
    "plt.legend()\n",
    "plt.show()"
   ]
  },
  {
   "cell_type": "code",
   "execution_count": null,
   "metadata": {},
   "outputs": [],
   "source": []
  }
 ],
 "metadata": {
  "kernelspec": {
   "display_name": "530_dev_env",
   "language": "python",
   "name": "python3"
  },
  "language_info": {
   "codemirror_mode": {
    "name": "ipython",
    "version": 3
   },
   "file_extension": ".py",
   "mimetype": "text/x-python",
   "name": "python",
   "nbconvert_exporter": "python",
   "pygments_lexer": "ipython3",
   "version": "3.10.12"
  }
 },
 "nbformat": 4,
 "nbformat_minor": 2
}
